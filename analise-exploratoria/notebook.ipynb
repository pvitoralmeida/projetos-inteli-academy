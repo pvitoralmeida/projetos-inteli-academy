{
 "cells": [
  {
   "cell_type": "markdown",
   "id": "0c9c20fb",
   "metadata": {},
   "source": [
    "# Projeto: Visualização de Dados e Análise Exploratória"
   ]
  },
  {
   "cell_type": "code",
   "execution_count": 1,
   "id": "d820c86d",
   "metadata": {},
   "outputs": [],
   "source": [
    "import pandas as pd\n",
    "import matplotlib.pyplot as plt"
   ]
  },
  {
   "cell_type": "markdown",
   "id": "93fffb1b",
   "metadata": {},
   "source": [
    "## Análise Exploratória"
   ]
  },
  {
   "cell_type": "code",
   "execution_count": 9,
   "id": "74a56d8b",
   "metadata": {},
   "outputs": [
    {
     "data": {
      "text/html": [
       "<div>\n",
       "<style scoped>\n",
       "    .dataframe tbody tr th:only-of-type {\n",
       "        vertical-align: middle;\n",
       "    }\n",
       "\n",
       "    .dataframe tbody tr th {\n",
       "        vertical-align: top;\n",
       "    }\n",
       "\n",
       "    .dataframe thead th {\n",
       "        text-align: right;\n",
       "    }\n",
       "</style>\n",
       "<table border=\"1\" class=\"dataframe\">\n",
       "  <thead>\n",
       "    <tr style=\"text-align: right;\">\n",
       "      <th></th>\n",
       "      <th>student_id</th>\n",
       "      <th>age</th>\n",
       "      <th>gender</th>\n",
       "      <th>study_hours_per_day</th>\n",
       "      <th>social_media_hours</th>\n",
       "      <th>netflix_hours</th>\n",
       "      <th>part_time_job</th>\n",
       "      <th>attendance_percentage</th>\n",
       "      <th>sleep_hours</th>\n",
       "      <th>diet_quality</th>\n",
       "      <th>exercise_frequency</th>\n",
       "      <th>parental_education_level</th>\n",
       "      <th>internet_quality</th>\n",
       "      <th>mental_health_rating</th>\n",
       "      <th>extracurricular_participation</th>\n",
       "      <th>exam_score</th>\n",
       "    </tr>\n",
       "  </thead>\n",
       "  <tbody>\n",
       "    <tr>\n",
       "      <th>0</th>\n",
       "      <td>S1000</td>\n",
       "      <td>23</td>\n",
       "      <td>Female</td>\n",
       "      <td>0.0</td>\n",
       "      <td>1.2</td>\n",
       "      <td>1.1</td>\n",
       "      <td>No</td>\n",
       "      <td>85.0</td>\n",
       "      <td>8.0</td>\n",
       "      <td>Fair</td>\n",
       "      <td>6</td>\n",
       "      <td>Master</td>\n",
       "      <td>Average</td>\n",
       "      <td>8</td>\n",
       "      <td>Yes</td>\n",
       "      <td>56.2</td>\n",
       "    </tr>\n",
       "    <tr>\n",
       "      <th>1</th>\n",
       "      <td>S1001</td>\n",
       "      <td>20</td>\n",
       "      <td>Female</td>\n",
       "      <td>6.9</td>\n",
       "      <td>2.8</td>\n",
       "      <td>2.3</td>\n",
       "      <td>No</td>\n",
       "      <td>97.3</td>\n",
       "      <td>4.6</td>\n",
       "      <td>Good</td>\n",
       "      <td>6</td>\n",
       "      <td>High School</td>\n",
       "      <td>Average</td>\n",
       "      <td>8</td>\n",
       "      <td>No</td>\n",
       "      <td>100.0</td>\n",
       "    </tr>\n",
       "    <tr>\n",
       "      <th>2</th>\n",
       "      <td>S1002</td>\n",
       "      <td>21</td>\n",
       "      <td>Male</td>\n",
       "      <td>1.4</td>\n",
       "      <td>3.1</td>\n",
       "      <td>1.3</td>\n",
       "      <td>No</td>\n",
       "      <td>94.8</td>\n",
       "      <td>8.0</td>\n",
       "      <td>Poor</td>\n",
       "      <td>1</td>\n",
       "      <td>High School</td>\n",
       "      <td>Poor</td>\n",
       "      <td>1</td>\n",
       "      <td>No</td>\n",
       "      <td>34.3</td>\n",
       "    </tr>\n",
       "    <tr>\n",
       "      <th>3</th>\n",
       "      <td>S1003</td>\n",
       "      <td>23</td>\n",
       "      <td>Female</td>\n",
       "      <td>1.0</td>\n",
       "      <td>3.9</td>\n",
       "      <td>1.0</td>\n",
       "      <td>No</td>\n",
       "      <td>71.0</td>\n",
       "      <td>9.2</td>\n",
       "      <td>Poor</td>\n",
       "      <td>4</td>\n",
       "      <td>Master</td>\n",
       "      <td>Good</td>\n",
       "      <td>1</td>\n",
       "      <td>Yes</td>\n",
       "      <td>26.8</td>\n",
       "    </tr>\n",
       "    <tr>\n",
       "      <th>4</th>\n",
       "      <td>S1004</td>\n",
       "      <td>19</td>\n",
       "      <td>Female</td>\n",
       "      <td>5.0</td>\n",
       "      <td>4.4</td>\n",
       "      <td>0.5</td>\n",
       "      <td>No</td>\n",
       "      <td>90.9</td>\n",
       "      <td>4.9</td>\n",
       "      <td>Fair</td>\n",
       "      <td>3</td>\n",
       "      <td>Master</td>\n",
       "      <td>Good</td>\n",
       "      <td>1</td>\n",
       "      <td>No</td>\n",
       "      <td>66.4</td>\n",
       "    </tr>\n",
       "  </tbody>\n",
       "</table>\n",
       "</div>"
      ],
      "text/plain": [
       "  student_id  age  gender  study_hours_per_day  social_media_hours  \\\n",
       "0      S1000   23  Female                  0.0                 1.2   \n",
       "1      S1001   20  Female                  6.9                 2.8   \n",
       "2      S1002   21    Male                  1.4                 3.1   \n",
       "3      S1003   23  Female                  1.0                 3.9   \n",
       "4      S1004   19  Female                  5.0                 4.4   \n",
       "\n",
       "   netflix_hours part_time_job  attendance_percentage  sleep_hours  \\\n",
       "0            1.1            No                   85.0          8.0   \n",
       "1            2.3            No                   97.3          4.6   \n",
       "2            1.3            No                   94.8          8.0   \n",
       "3            1.0            No                   71.0          9.2   \n",
       "4            0.5            No                   90.9          4.9   \n",
       "\n",
       "  diet_quality  exercise_frequency parental_education_level internet_quality  \\\n",
       "0         Fair                   6                   Master          Average   \n",
       "1         Good                   6              High School          Average   \n",
       "2         Poor                   1              High School             Poor   \n",
       "3         Poor                   4                   Master             Good   \n",
       "4         Fair                   3                   Master             Good   \n",
       "\n",
       "   mental_health_rating extracurricular_participation  exam_score  \n",
       "0                     8                           Yes        56.2  \n",
       "1                     8                            No       100.0  \n",
       "2                     1                            No        34.3  \n",
       "3                     1                           Yes        26.8  \n",
       "4                     1                            No        66.4  "
      ]
     },
     "execution_count": 9,
     "metadata": {},
     "output_type": "execute_result"
    }
   ],
   "source": [
    "df = pd.read_csv('student_habits_performance.csv')\n",
    "df.head()"
   ]
  },
  {
   "cell_type": "code",
   "execution_count": null,
   "id": "c20b6dd2",
   "metadata": {},
   "outputs": [
    {
     "data": {
      "text/html": [
       "<div>\n",
       "<style scoped>\n",
       "    .dataframe tbody tr th:only-of-type {\n",
       "        vertical-align: middle;\n",
       "    }\n",
       "\n",
       "    .dataframe tbody tr th {\n",
       "        vertical-align: top;\n",
       "    }\n",
       "\n",
       "    .dataframe thead th {\n",
       "        text-align: right;\n",
       "    }\n",
       "</style>\n",
       "<table border=\"1\" class=\"dataframe\">\n",
       "  <thead>\n",
       "    <tr style=\"text-align: right;\">\n",
       "      <th></th>\n",
       "      <th>age</th>\n",
       "      <th>study_hours_per_day</th>\n",
       "      <th>social_media_hours</th>\n",
       "      <th>netflix_hours</th>\n",
       "      <th>attendance_percentage</th>\n",
       "      <th>sleep_hours</th>\n",
       "      <th>exercise_frequency</th>\n",
       "      <th>mental_health_rating</th>\n",
       "      <th>exam_score</th>\n",
       "    </tr>\n",
       "  </thead>\n",
       "  <tbody>\n",
       "    <tr>\n",
       "      <th>count</th>\n",
       "      <td>1000.0000</td>\n",
       "      <td>1000.00000</td>\n",
       "      <td>1000.000000</td>\n",
       "      <td>1000.000000</td>\n",
       "      <td>1000.000000</td>\n",
       "      <td>1000.000000</td>\n",
       "      <td>1000.000000</td>\n",
       "      <td>1000.000000</td>\n",
       "      <td>1000.000000</td>\n",
       "    </tr>\n",
       "    <tr>\n",
       "      <th>mean</th>\n",
       "      <td>20.4980</td>\n",
       "      <td>3.55010</td>\n",
       "      <td>2.505500</td>\n",
       "      <td>1.819700</td>\n",
       "      <td>84.131700</td>\n",
       "      <td>6.470100</td>\n",
       "      <td>3.042000</td>\n",
       "      <td>5.438000</td>\n",
       "      <td>69.601500</td>\n",
       "    </tr>\n",
       "    <tr>\n",
       "      <th>std</th>\n",
       "      <td>2.3081</td>\n",
       "      <td>1.46889</td>\n",
       "      <td>1.172422</td>\n",
       "      <td>1.075118</td>\n",
       "      <td>9.399246</td>\n",
       "      <td>1.226377</td>\n",
       "      <td>2.025423</td>\n",
       "      <td>2.847501</td>\n",
       "      <td>16.888564</td>\n",
       "    </tr>\n",
       "    <tr>\n",
       "      <th>min</th>\n",
       "      <td>17.0000</td>\n",
       "      <td>0.00000</td>\n",
       "      <td>0.000000</td>\n",
       "      <td>0.000000</td>\n",
       "      <td>56.000000</td>\n",
       "      <td>3.200000</td>\n",
       "      <td>0.000000</td>\n",
       "      <td>1.000000</td>\n",
       "      <td>18.400000</td>\n",
       "    </tr>\n",
       "    <tr>\n",
       "      <th>25%</th>\n",
       "      <td>18.7500</td>\n",
       "      <td>2.60000</td>\n",
       "      <td>1.700000</td>\n",
       "      <td>1.000000</td>\n",
       "      <td>78.000000</td>\n",
       "      <td>5.600000</td>\n",
       "      <td>1.000000</td>\n",
       "      <td>3.000000</td>\n",
       "      <td>58.475000</td>\n",
       "    </tr>\n",
       "    <tr>\n",
       "      <th>50%</th>\n",
       "      <td>20.0000</td>\n",
       "      <td>3.50000</td>\n",
       "      <td>2.500000</td>\n",
       "      <td>1.800000</td>\n",
       "      <td>84.400000</td>\n",
       "      <td>6.500000</td>\n",
       "      <td>3.000000</td>\n",
       "      <td>5.000000</td>\n",
       "      <td>70.500000</td>\n",
       "    </tr>\n",
       "    <tr>\n",
       "      <th>75%</th>\n",
       "      <td>23.0000</td>\n",
       "      <td>4.50000</td>\n",
       "      <td>3.300000</td>\n",
       "      <td>2.525000</td>\n",
       "      <td>91.025000</td>\n",
       "      <td>7.300000</td>\n",
       "      <td>5.000000</td>\n",
       "      <td>8.000000</td>\n",
       "      <td>81.325000</td>\n",
       "    </tr>\n",
       "    <tr>\n",
       "      <th>max</th>\n",
       "      <td>24.0000</td>\n",
       "      <td>8.30000</td>\n",
       "      <td>7.200000</td>\n",
       "      <td>5.400000</td>\n",
       "      <td>100.000000</td>\n",
       "      <td>10.000000</td>\n",
       "      <td>6.000000</td>\n",
       "      <td>10.000000</td>\n",
       "      <td>100.000000</td>\n",
       "    </tr>\n",
       "  </tbody>\n",
       "</table>\n",
       "</div>"
      ],
      "text/plain": [
       "             age  study_hours_per_day  social_media_hours  netflix_hours  \\\n",
       "count  1000.0000           1000.00000         1000.000000    1000.000000   \n",
       "mean     20.4980              3.55010            2.505500       1.819700   \n",
       "std       2.3081              1.46889            1.172422       1.075118   \n",
       "min      17.0000              0.00000            0.000000       0.000000   \n",
       "25%      18.7500              2.60000            1.700000       1.000000   \n",
       "50%      20.0000              3.50000            2.500000       1.800000   \n",
       "75%      23.0000              4.50000            3.300000       2.525000   \n",
       "max      24.0000              8.30000            7.200000       5.400000   \n",
       "\n",
       "       attendance_percentage  sleep_hours  exercise_frequency  \\\n",
       "count            1000.000000  1000.000000         1000.000000   \n",
       "mean               84.131700     6.470100            3.042000   \n",
       "std                 9.399246     1.226377            2.025423   \n",
       "min                56.000000     3.200000            0.000000   \n",
       "25%                78.000000     5.600000            1.000000   \n",
       "50%                84.400000     6.500000            3.000000   \n",
       "75%                91.025000     7.300000            5.000000   \n",
       "max               100.000000    10.000000            6.000000   \n",
       "\n",
       "       mental_health_rating   exam_score  \n",
       "count           1000.000000  1000.000000  \n",
       "mean               5.438000    69.601500  \n",
       "std                2.847501    16.888564  \n",
       "min                1.000000    18.400000  \n",
       "25%                3.000000    58.475000  \n",
       "50%                5.000000    70.500000  \n",
       "75%                8.000000    81.325000  \n",
       "max               10.000000   100.000000  "
      ]
     },
     "execution_count": 5,
     "metadata": {},
     "output_type": "execute_result"
    }
   ],
   "source": [
    "df.describe()"
   ]
  },
  {
   "cell_type": "code",
   "execution_count": null,
   "id": "24b215e0",
   "metadata": {},
   "outputs": [
    {
     "name": "stdout",
     "output_type": "stream",
     "text": [
      "<class 'pandas.core.frame.DataFrame'>\n",
      "RangeIndex: 1000 entries, 0 to 999\n",
      "Data columns (total 16 columns):\n",
      " #   Column                         Non-Null Count  Dtype  \n",
      "---  ------                         --------------  -----  \n",
      " 0   student_id                     1000 non-null   object \n",
      " 1   age                            1000 non-null   int64  \n",
      " 2   gender                         1000 non-null   object \n",
      " 3   study_hours_per_day            1000 non-null   float64\n",
      " 4   social_media_hours             1000 non-null   float64\n",
      " 5   netflix_hours                  1000 non-null   float64\n",
      " 6   part_time_job                  1000 non-null   object \n",
      " 7   attendance_percentage          1000 non-null   float64\n",
      " 8   sleep_hours                    1000 non-null   float64\n",
      " 9   diet_quality                   1000 non-null   object \n",
      " 10  exercise_frequency             1000 non-null   int64  \n",
      " 11  parental_education_level       909 non-null    object \n",
      " 12  internet_quality               1000 non-null   object \n",
      " 13  mental_health_rating           1000 non-null   int64  \n",
      " 14  extracurricular_participation  1000 non-null   object \n",
      " 15  exam_score                     1000 non-null   float64\n",
      "dtypes: float64(6), int64(3), object(7)\n",
      "memory usage: 125.1+ KB\n"
     ]
    }
   ],
   "source": [
    "df.info()"
   ]
  },
  {
   "cell_type": "markdown",
   "id": "6d986961",
   "metadata": {},
   "source": [
    "## Visualização de Dados"
   ]
  },
  {
   "cell_type": "code",
   "execution_count": null,
   "id": "10f89bfc",
   "metadata": {},
   "outputs": [
    {
     "data": {
      "image/png": "[encoded data removed]",
      "text/plain": [
       "<Figure size 1000x600 with 1 Axes>"
      ]
     },
     "metadata": {},
     "output_type": "display_data"
    }
   ],
   "source": [
    "# Fazer a plotagem de um boxplot para a coluna 'study_hours_per_day'\n",
    "plt.figure(figsize=(10, 6))\n",
    "plt.boxplot(df['study_hours_per_day'])\n",
    "plt.show()"
   ]
  },
  {
   "cell_type": "markdown",
   "id": "eb7c1421",
   "metadata": {},
   "source": [
    "Outliers: alguns dados indicam mais que 7 horas e meia de estudo.\n",
    "\n",
    "Mediana: está mais ou menos na faixa de 3 horas e meia de estudo.\n",
    "\n",
    "Os dados estão levemente concentrados na faixa inferior dos dados (abaixo de 4 horas de estudo).\n",
    "\n",
    "A maioria estuda cerca de 4 horas por dia, mas alguns poucos chegam a 7. Isso\n",
    "pode indicar que alguns poucos alunos são mais dedicados que a maioria.\n"
   ]
  },
  {
   "cell_type": "code",
   "execution_count": null,
   "id": "a4b69c82",
   "metadata": {},
   "outputs": [
    {
     "data": {
      "image/png": "[encoded data removed]",
      "text/plain": [
       "<Figure size 1000x600 with 1 Axes>"
      ]
     },
     "metadata": {},
     "output_type": "display_data"
    }
   ],
   "source": [
    "# Fazer a plotagem de um boxplot para a coluna 'sleep_hours'\n",
    "plt.figure(figsize=(10, 6))\n",
    "plt.boxplot(df['sleep_hours'])\n",
    "plt.show()"
   ]
  },
  {
   "cell_type": "markdown",
   "id": "7e90b238",
   "metadata": {},
   "source": [
    "Outliers: há um registro de mais de 10 horas de sono.\n",
    "\n",
    "Mediana: está mais ou menos na faixa de 6 horas e meia de sono.\n",
    "\n",
    "Os dados estão aparentemente simétricos.\n",
    "\n",
    "A maioria dorme ao menos 6 horas por dia, mas alguns poucos dormem menos que 4. Isso\n",
    "pode indicar que alguns alunos tem dificuldade para dormir.\n"
   ]
  },
  {
   "cell_type": "code",
   "execution_count": 14,
   "id": "527372f8",
   "metadata": {},
   "outputs": [
    {
     "data": {
      "image/png": "[encoded data removed]",
      "text/plain": [
       "<Figure size 1000x600 with 1 Axes>"
      ]
     },
     "metadata": {},
     "output_type": "display_data"
    }
   ],
   "source": [
    "# Fazer a plotagem de um bloxpot para a coluna 'social_media_hours'\n",
    "plt.figure(figsize=(10, 6))\n",
    "plt.boxplot(df['social_media_hours'])\n",
    "plt.show()"
   ]
  },
  {
   "cell_type": "markdown",
   "id": "6c263bff",
   "metadata": {},
   "source": [
    "Outliers: há alguns registros de mais de 5 horas e meia nas redes sociais.\n",
    "\n",
    "Mediana: está mais ou menos na faixa de 2 horas e meia de uso de redes sociais.\n",
    "\n",
    "Os dados estão levemente concentrados na faixa inferior dos dados (abaixo de 3 horas e meia de uso).\n",
    "\n",
    "A maioria usa redes sociais cerca de 2 horas e meia por dia, mas alguns usam mais que 5 horas por dia. Isso\n",
    "pode indicar que alguns alunos podem ser viciados em usar redes sociais."
   ]
  },
  {
   "cell_type": "code",
   "execution_count": 15,
   "id": "c405b7a5",
   "metadata": {},
   "outputs": [
    {
     "data": {
      "image/png": "[encoded data removed]",
      "text/plain": [
       "<Figure size 1000x600 with 1 Axes>"
      ]
     },
     "metadata": {},
     "output_type": "display_data"
    }
   ],
   "source": [
    "# Fazer a plotagem de um boxplot para a coluna 'exam_score'\n",
    "plt.figure(figsize=(10, 6))\n",
    "plt.boxplot(df['exam_score'])\n",
    "plt.show()"
   ]
  },
  {
   "cell_type": "markdown",
   "id": "def85410",
   "metadata": {},
   "source": [
    "Outliers: há alguns registros de notas abaixo de 30 pontos.\n",
    "\n",
    "Mediana: está mais ou menos na faixa de 72 pontos no exame.\n",
    "\n",
    "Os dados estão levemente concentrados na faixa superior dos dados (acima dos 60 pontos).\n",
    "\n",
    "A maioria dos alunos obtiveram uma nota acima da média (60+), mas alguns obtiveram menos que 30. Isso\n",
    "pode indicar que alguns alunos tiveram muita dificuldade com a prova."
   ]
  },
  {
   "cell_type": "code",
   "execution_count": null,
   "id": "e7e809b9",
   "metadata": {},
   "outputs": [],
   "source": []
  }
 ],
 "metadata": {
  "kernelspec": {
   "display_name": "Python 3",
   "language": "python",
   "name": "python3"
  },
  "language_info": {
   "codemirror_mode": {
    "name": "ipython",
    "version": 3
   },
   "file_extension": ".py",
   "mimetype": "text/x-python",
   "name": "python",
   "nbconvert_exporter": "python",
   "pygments_lexer": "ipython3",
   "version": "3.13.3"
  }
 },
 "nbformat": 4,
 "nbformat_minor": 5
}
